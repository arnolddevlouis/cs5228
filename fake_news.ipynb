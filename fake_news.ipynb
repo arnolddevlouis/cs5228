{
 "cells": [
  {
   "cell_type": "markdown",
   "id": "24ddd8eb",
   "metadata": {},
   "source": [
    "# CS5228 Project - Group 15"
   ]
  },
  {
   "cell_type": "code",
   "execution_count": 137,
   "id": "88010800",
   "metadata": {},
   "outputs": [
    {
     "name": "stdout",
     "output_type": "stream",
     "text": [
      "The autoreload extension is already loaded. To reload it, use:\n",
      "  %reload_ext autoreload\n"
     ]
    }
   ],
   "source": [
    "# Ensures that the notebook will reload external python modules;\n",
    "# i.e. when you change something in your .py script, you do not need to re-import the .py script file.\n",
    "# see http://stackoverflow.com/questions/1907993/autoreload-of-modules-in-ipython\n",
    "%load_ext autoreload\n",
    "%autoreload 2"
   ]
  },
  {
   "cell_type": "markdown",
   "id": "67f67f90",
   "metadata": {},
   "source": [
    "Making all the required imports:"
   ]
  },
  {
   "cell_type": "code",
   "execution_count": 152,
   "id": "85e97564",
   "metadata": {},
   "outputs": [
    {
     "name": "stderr",
     "output_type": "stream",
     "text": [
      "[nltk_data] Downloading package stopwords to /Users/tejab/nltk_data...\n",
      "[nltk_data]   Package stopwords is already up-to-date!\n"
     ]
    }
   ],
   "source": [
    "import numpy as np\n",
    "import pandas as pd\n",
    "import matplotlib.pyplot as plt\n",
    "import re\n",
    "\n",
    "import nltk\n",
    "nltk.download('stopwords')\n",
    "from nltk.corpus import stopwords\n",
    "from nltk.stem import PorterStemmer\n",
    "from sklearn.feature_extraction.text import TfidfVectorizer\n",
    "from sklearn.model_selection import train_test_split\n",
    "from src.utils import clean_data\n",
    "\n",
    "\n",
    "from sklearn.ensemble import RandomForestClassifier\n",
    "from sklearn.metrics import classification_report\n"
   ]
  },
  {
   "cell_type": "code",
   "execution_count": 139,
   "id": "37f9765c",
   "metadata": {},
   "outputs": [],
   "source": [
    "# setting option to display full sentence in the head\n",
    "pd.set_option('display.max_colwidth', None)"
   ]
  },
  {
   "cell_type": "markdown",
   "id": "ea25fe31",
   "metadata": {},
   "source": [
    "----------"
   ]
  },
  {
   "cell_type": "markdown",
   "id": "b637be83",
   "metadata": {},
   "source": [
    "#### EDA and Data Preprocessing"
   ]
  },
  {
   "cell_type": "code",
   "execution_count": 140,
   "metadata": {},
   "outputs": [],
   "source": [
    "# Reading dataset\n",
    "fakenews_df = pd.read_csv('data/WELFake_Dataset.csv')\n",
    "# fakenews_df.head()\n",
    "# fakenews_df.shape"
   ]
  },
  {
   "cell_type": "code",
   "execution_count": 141,
   "id": "37ee5c6c",
   "metadata": {},
   "outputs": [
    {
     "data": {
      "text/plain": [
       "Unnamed: 0      0\n",
       "title         558\n",
       "text           39\n",
       "label           0\n",
       "dtype: int64"
      ]
     },
     "execution_count": 141,
     "metadata": {},
     "output_type": "execute_result"
    }
   ],
   "source": [
    "# check the nulls\n",
    "fakenews_df.isna().sum()"
   ]
  },
  {
   "cell_type": "code",
   "execution_count": 142,
   "id": "a16f868e",
   "metadata": {},
   "outputs": [],
   "source": [
    "# dropping null values\n",
    "fakenews_df.dropna(inplace=True)\n",
    "# Reset the index\n",
    "fakenews_df = fakenews_df.reset_index(drop=True)\n",
    "# Drop the column\n",
    "fakenews_df = fakenews_df.drop('Unnamed: 0', axis=1)\n",
    "# fakenews_df.head()\n"
   ]
  },
  {
   "cell_type": "code",
   "execution_count": 143,
   "id": "3ad4ede9",
   "metadata": {},
   "outputs": [
    {
     "data": {
      "image/png": "[encoded data removed]",
      "text/plain": [
       "<Figure size 640x480 with 1 Axes>"
      ]
     },
     "metadata": {},
     "output_type": "display_data"
    }
   ],
   "source": [
    "# distribution of label\n",
    "# Plot a histogram\n",
    "plt.hist(fakenews_df['label'], bins=2, edgecolor='black')\n",
    "\n",
    "# Set the title and labels\n",
    "plt.title('Distribution of Target variable')\n",
    "plt.xlabel('label')\n",
    "plt.ylabel('Frequency')\n",
    "\n",
    "# Show the plot\n",
    "plt.show()"
   ]
  },
  {
   "cell_type": "code",
   "execution_count": 144,
   "id": "6e1f0940",
   "metadata": {},
   "outputs": [],
   "source": [
    "# combine title and text columns into single column\n",
    "fakenews_df['title_text'] = fakenews_df['title'] + ' ' + fakenews_df['text']\n",
    "\n",
    "# dropping individual columns\n",
    "fakenews_df = fakenews_df.drop(['title','text'], axis=1)\n",
    "\n",
    "# moving column to begining of the dataframe\n",
    "column_to_move = fakenews_df.pop('title_text')\n",
    "fakenews_df.insert(0, 'title_text', column_to_move)"
   ]
  },
  {
   "cell_type": "code",
   "execution_count": 145,
   "id": "a462a56a",
   "metadata": {},
   "outputs": [
    {
     "data": {
      "text/html": [
       "<div>\n",
       "<style scoped>\n",
       "    .dataframe tbody tr th:only-of-type {\n",
       "        vertical-align: middle;\n",
       "    }\n",
       "\n",
       "    .dataframe tbody tr th {\n",
       "        vertical-align: top;\n",
       "    }\n",
       "\n",
       "    .dataframe thead th {\n",
       "        text-align: right;\n",
       "    }\n",
       "</style>\n",
       "<table border=\"1\" class=\"dataframe\">\n",
       "  <thead>\n",
       "    <tr style=\"text-align: right;\">\n",
       "      <th></th>\n",
       "      <th>title_text</th>\n",
       "      <th>label</th>\n",
       "    </tr>\n",
       "  </thead>\n",
       "  <tbody>\n",
       "    <tr>\n",
       "      <th>0</th>\n",
       "      <td>law enforcement on high alert following threats against cops and whites on 911by blacklivesmatter and fyf911 terrorists video no comment is expected from barack obama members of the fyf911 or fukyoflag and blacklivesmatter movements called for the lynching and hanging of white people and cops they encouraged others on a radio show tuesday night to  turn the tide  and kill white people and cops to send a message about the killing of black people in americaone of the fyoflag organizers is called  sunshine  she has a radio blog show hosted from texas called  sunshine s fing opinion radio show a snapshot of her fyf911 lolatwhitefear twitter page at 953 pm shows that she was urging supporters to  call now fyf911 tonight we continue to dismantle the illusion of white below is a snapshot twitter radio call invite   fyf911the radio show aired at 1000 pm eastern standard timeduring the show callers clearly call for  lynching  and  killing  of white peoplea 239 minute clip from the radio show can be heard here it was provided to breitbart texas by someone who would like to be referred to as  hannibal  he has already received death threats as a result of interrupting fyf911 conference callsan unidentified black man said  when those mother fkers are by themselves that s when when we should start fing them up like they do us when a bunch of them niers takin  one of us out that s how we should roll up  he said  cause we already roll up in gangs anyway there should be six or seven black mother fckers see that white person and then lynch their ass let s turn the tables they conspired that if  cops started losing people  then  there will be a state of emergency he speculated that one of two things would happen  a bigass r s war  or  niers they are going to start backin  up we are already getting killed out here so what the fk we got to lose sunshine could be heard saying  yep that s true that s so fking true he said  we need to turn the tables on them our kids are getting shot out here somebody needs to become a sacrifice on their sidehe said  everybody ain t down for that st or whatever but like i say everybody has a different position of war  he continued  because they don t give a fk anyway  he said again  we might as well utilized them for that st and turn the tables on these ners he said that way  we can start lookin  like we ain t havin  that many casualties and there can be more causalities on their side instead of ours they are out their killing black people black lives don t matter that s what those mother fkers   so we got to make it matter to them find a mother fker that is alone snap his ass and then fin hang him from a damn tree take a picture of it and then send it to the mother fkers we  just need one example  and  then people will start watchin   this will turn the tables on st he said he said this will start  a trickledown effect  he said that when one white person is hung and then they are just  flathanging  that will start the  trickledown effect  he continued  black people are good at starting trends he said that was how  to get the upperhand another black man spoke up saying they needed to kill  cops that are killing us the first black male said  that will be the best method right there breitbart texas previously reported how sunshine was upset when  racist white people  infiltrated and disrupted one of her conference calls she subsequently released the phone number of one of the infiltrators the veteran immediately started receiving threatening callsone of the fyoflag movement supporters allegedly told a veteran who infiltrated their publicly posted conference call  we are going to rape and gut your pregnant wife and your fing piece of sht unborn creature will be hung from a tree breitbart texas previously encountered sunshine at a sandra bland protest at the waller county jail in texas where she said all white people should be killed she told journalists and photographers  you see this nappyass hair on my head   that means i am one of those more militant negroes  she said she was at the protest because  these redneck motherfkers murdered sandra bland because she had nappy hair like me fyf911 black radicals say they will be holding the  imperial powers  that are actually responsible for the terrorist attacks on september 11th accountable on that day as reported by breitbart texas there are several websites and twitter handles for the movement palmetto star  describes himself as one of the head organizers he said in a youtube video that supporters will be burning their symbols of  the illusion of their superiority  their  false white supremacy  like the american flag the british flag police uniforms and ku klux klan hoodssierra mcgrone or  nocturnus libertus  posted  you too can help a young afrikan clean their a with the rag of oppression  she posted two photos one that appears to be herself and a photo of a black man wiping their naked butts with the american flagfor entire story breitbart news</td>\n",
       "      <td>1</td>\n",
       "    </tr>\n",
       "  </tbody>\n",
       "</table>\n",
       "</div>"
      ],
      "text/plain": [
       "                                                                                                                                                                                                                                                                                                                                                                                                                                                                                                                                                                                                                                                                                                                                                                                                                                                                                                                                                                                                                                                                                                                                                                                                                                                                                                                                                                                                                                                                                                                                                                                                                                                                                                                                                                                                                                                                                                                                                                                                                                                                                                                                                                                                                                                                                                                                                                                                                                                                                                                                                                                                                                                                                                                                                                                                                                                                                                                                                                                                                                                                                                                                                                                                                                                                                                                                                                                                                                                                                                                                                                                                                                                                                                                                                                                                                                                                                                                                                                                                                                                                                                                                                                                                                                                                                                                                                                                                                                                                                                                                                                                                                                                                                                                                                                                                                                                                                                                                                                                                                                                                                                                                                                                          title_text  label\n",
       "0  law enforcement on high alert following threats against cops and whites on 911by blacklivesmatter and fyf911 terrorists video no comment is expected from barack obama members of the fyf911 or fukyoflag and blacklivesmatter movements called for the lynching and hanging of white people and cops they encouraged others on a radio show tuesday night to  turn the tide  and kill white people and cops to send a message about the killing of black people in americaone of the fyoflag organizers is called  sunshine  she has a radio blog show hosted from texas called  sunshine s fing opinion radio show a snapshot of her fyf911 lolatwhitefear twitter page at 953 pm shows that she was urging supporters to  call now fyf911 tonight we continue to dismantle the illusion of white below is a snapshot twitter radio call invite   fyf911the radio show aired at 1000 pm eastern standard timeduring the show callers clearly call for  lynching  and  killing  of white peoplea 239 minute clip from the radio show can be heard here it was provided to breitbart texas by someone who would like to be referred to as  hannibal  he has already received death threats as a result of interrupting fyf911 conference callsan unidentified black man said  when those mother fkers are by themselves that s when when we should start fing them up like they do us when a bunch of them niers takin  one of us out that s how we should roll up  he said  cause we already roll up in gangs anyway there should be six or seven black mother fckers see that white person and then lynch their ass let s turn the tables they conspired that if  cops started losing people  then  there will be a state of emergency he speculated that one of two things would happen  a bigass r s war  or  niers they are going to start backin  up we are already getting killed out here so what the fk we got to lose sunshine could be heard saying  yep that s true that s so fking true he said  we need to turn the tables on them our kids are getting shot out here somebody needs to become a sacrifice on their sidehe said  everybody ain t down for that st or whatever but like i say everybody has a different position of war  he continued  because they don t give a fk anyway  he said again  we might as well utilized them for that st and turn the tables on these ners he said that way  we can start lookin  like we ain t havin  that many casualties and there can be more causalities on their side instead of ours they are out their killing black people black lives don t matter that s what those mother fkers   so we got to make it matter to them find a mother fker that is alone snap his ass and then fin hang him from a damn tree take a picture of it and then send it to the mother fkers we  just need one example  and  then people will start watchin   this will turn the tables on st he said he said this will start  a trickledown effect  he said that when one white person is hung and then they are just  flathanging  that will start the  trickledown effect  he continued  black people are good at starting trends he said that was how  to get the upperhand another black man spoke up saying they needed to kill  cops that are killing us the first black male said  that will be the best method right there breitbart texas previously reported how sunshine was upset when  racist white people  infiltrated and disrupted one of her conference calls she subsequently released the phone number of one of the infiltrators the veteran immediately started receiving threatening callsone of the fyoflag movement supporters allegedly told a veteran who infiltrated their publicly posted conference call  we are going to rape and gut your pregnant wife and your fing piece of sht unborn creature will be hung from a tree breitbart texas previously encountered sunshine at a sandra bland protest at the waller county jail in texas where she said all white people should be killed she told journalists and photographers  you see this nappyass hair on my head   that means i am one of those more militant negroes  she said she was at the protest because  these redneck motherfkers murdered sandra bland because she had nappy hair like me fyf911 black radicals say they will be holding the  imperial powers  that are actually responsible for the terrorist attacks on september 11th accountable on that day as reported by breitbart texas there are several websites and twitter handles for the movement palmetto star  describes himself as one of the head organizers he said in a youtube video that supporters will be burning their symbols of  the illusion of their superiority  their  false white supremacy  like the american flag the british flag police uniforms and ku klux klan hoodssierra mcgrone or  nocturnus libertus  posted  you too can help a young afrikan clean their a with the rag of oppression  she posted two photos one that appears to be herself and a photo of a black man wiping their naked butts with the american flagfor entire story breitbart news      1"
      ]
     },
     "execution_count": 145,
     "metadata": {},
     "output_type": "execute_result"
    }
   ],
   "source": [
    "# convert title and text columns to lower case\n",
    "fakenews_df['title_text'] = fakenews_df['title_text'].str.lower()\n",
    "\n",
    "# remove spaces front, back and middle of text\n",
    "fakenews_df['title_text'] = fakenews_df['title_text'].str.strip().replace(' ','')\n",
    "\n",
    "# remove punchuation\n",
    "# fakenews_df['title_text'] = fakenews_df['title_text'].str.replace(r'[^\\w\\s]', '')\n",
    "fakenews_df = clean_data(fakenews_df, 'title_text')\n",
    "fakenews_df.head(1)\n"
   ]
  },
  {
   "cell_type": "markdown",
   "id": "1298239f",
   "metadata": {},
   "source": [
    "#### NLP Steps"
   ]
  },
  {
   "cell_type": "code",
   "execution_count": 149,
   "id": "44fd2b68",
   "metadata": {},
   "outputs": [
    {
     "data": {
      "text/html": [
       "<div>\n",
       "<style scoped>\n",
       "    .dataframe tbody tr th:only-of-type {\n",
       "        vertical-align: middle;\n",
       "    }\n",
       "\n",
       "    .dataframe tbody tr th {\n",
       "        vertical-align: top;\n",
       "    }\n",
       "\n",
       "    .dataframe thead th {\n",
       "        text-align: right;\n",
       "    }\n",
       "</style>\n",
       "<table border=\"1\" class=\"dataframe\">\n",
       "  <thead>\n",
       "    <tr style=\"text-align: right;\">\n",
       "      <th></th>\n",
       "      <th>title_text</th>\n",
       "      <th>label</th>\n",
       "    </tr>\n",
       "  </thead>\n",
       "  <tbody>\n",
       "    <tr>\n",
       "      <th>0</th>\n",
       "      <td>law enforc high alert follow threat cop white 911bi blacklivesmatt fyf911 terrorist video comment expect barack obama member fyf911 fukyoflag blacklivesmatt movement call lynch hang white peopl cop encourag radio show tuesday night turn tide kill white peopl cop send messag kill black peopl americaon fyoflag organ call sunshin radio blog show host texa call sunshin fing opinion radio show snapshot fyf911 lolatwhitefear twitter page 953 pm show urg support call fyf911 tonight continu dismantl illu white snapshot twitter radio call invit fyf911th radio show air 1000 pm eastern standard timedur show caller clearli call lynch kill white peoplea 239 minut clip radio show heard provid breitbart texa someon would like refer hannib alreadi receiv death threat result interrupt fyf911 confer callsan unidentifi black man said mother fker start fing like us bunch nier takin one us roll said cau alreadi roll gang anyway six seven black mother fcker see white person lynch ass let turn tabl conspir cop start lose peopl state emerg specul one two thing would happen bigass r war nier go start backin alreadi get kill fk got lose sunshin could heard say yep true fking true said need turn tabl kid get shot somebodi need becom sacrif sideh said everybodi st whatev like say everybodi differ posit war continu give fk anyway said might well util st turn tabl ner said way start lookin like havin mani casualti causal side instead kill black peopl black live matter mother fker got make matter find mother fker alon snap ass fin hang damn tree take pictur send mother fker need one exampl peopl start watchin turn tabl st said said start trickledown effect said one white person hung flathang start trickledown effect continu black peopl good start trend said get upperhand anoth black man spoke say need kill cop kill us first black male said best method right breitbart texa previou report sunshin upset racist white peopl infiltr disrupt one confer call subsequ relea phone number one infiltr veteran immedi start receiv threaten callson fyoflag movement support allegedli told veteran infiltr publicli post confer call go rape gut pregnant wife fing piec sht unborn creatur hung tree breitbart texa previou encount sunshin sandra bland protest waller counti jail texa said white peopl kill told journalist photograph see nappyass hair head mean one milit negro said protest redneck motherfk murder sandra bland nappi hair like fyf911 black radic say hold imperi power actual respon terrorist attack septemb 11th account day report breitbart texa sever websit twitter handl movement palmetto star describ one head organ said youtub video support burn symbol illu superior fal white supremaci like american flag british flag polic uniform ku klux klan hoodssierra mcgrone nocturnu libertu post help young afrikan clean rag oppress post two photo one appear photo black man wipe nake butt american flagfor entir stori breitbart news</td>\n",
       "      <td>1</td>\n",
       "    </tr>\n",
       "  </tbody>\n",
       "</table>\n",
       "</div>"
      ],
      "text/plain": [
       "                                                                                                                                                                                                                                                                                                                                                                                                                                                                                                                                                                                                                                                                                                                                                                                                                                                                                                                                                                                                                                                                                                                                                                                                                                                                                                                                                                                                                                                                                                                                                                                                                                                                                                                                                                                                                                                                                                                                                                                                                                                                                                                                                                                                                                                                                                                                                                                                                                                                                                                                                                                                                                                                                                                                                                                                                                                                                                                                                                                                                                           title_text  label\n",
       "0  law enforc high alert follow threat cop white 911bi blacklivesmatt fyf911 terrorist video comment expect barack obama member fyf911 fukyoflag blacklivesmatt movement call lynch hang white peopl cop encourag radio show tuesday night turn tide kill white peopl cop send messag kill black peopl americaon fyoflag organ call sunshin radio blog show host texa call sunshin fing opinion radio show snapshot fyf911 lolatwhitefear twitter page 953 pm show urg support call fyf911 tonight continu dismantl illu white snapshot twitter radio call invit fyf911th radio show air 1000 pm eastern standard timedur show caller clearli call lynch kill white peoplea 239 minut clip radio show heard provid breitbart texa someon would like refer hannib alreadi receiv death threat result interrupt fyf911 confer callsan unidentifi black man said mother fker start fing like us bunch nier takin one us roll said cau alreadi roll gang anyway six seven black mother fcker see white person lynch ass let turn tabl conspir cop start lose peopl state emerg specul one two thing would happen bigass r war nier go start backin alreadi get kill fk got lose sunshin could heard say yep true fking true said need turn tabl kid get shot somebodi need becom sacrif sideh said everybodi st whatev like say everybodi differ posit war continu give fk anyway said might well util st turn tabl ner said way start lookin like havin mani casualti causal side instead kill black peopl black live matter mother fker got make matter find mother fker alon snap ass fin hang damn tree take pictur send mother fker need one exampl peopl start watchin turn tabl st said said start trickledown effect said one white person hung flathang start trickledown effect continu black peopl good start trend said get upperhand anoth black man spoke say need kill cop kill us first black male said best method right breitbart texa previou report sunshin upset racist white peopl infiltr disrupt one confer call subsequ relea phone number one infiltr veteran immedi start receiv threaten callson fyoflag movement support allegedli told veteran infiltr publicli post confer call go rape gut pregnant wife fing piec sht unborn creatur hung tree breitbart texa previou encount sunshin sandra bland protest waller counti jail texa said white peopl kill told journalist photograph see nappyass hair head mean one milit negro said protest redneck motherfk murder sandra bland nappi hair like fyf911 black radic say hold imperi power actual respon terrorist attack septemb 11th account day report breitbart texa sever websit twitter handl movement palmetto star describ one head organ said youtub video support burn symbol illu superior fal white supremaci like american flag british flag polic uniform ku klux klan hoodssierra mcgrone nocturnu libertu post help young afrikan clean rag oppress post two photo one appear photo black man wipe nake butt american flagfor entir stori breitbart news      1"
      ]
     },
     "execution_count": 149,
     "metadata": {},
     "output_type": "execute_result"
    }
   ],
   "source": [
    "# split and Remove stopwords from title_text column\n",
    "stop = stopwords.words('english')\n",
    "fakenews_df['title_text'] = fakenews_df['title_text'].apply(lambda x: ' '.join(word for word in x.split() if word not in stop))\n",
    "\n",
    "# Apply stemming\n",
    "stemmer = PorterStemmer()\n",
    "fakenews_df['title_text'] = fakenews_df['title_text'].apply(lambda x: ' '.join(stemmer.stem(word) for word in x.split()))\n",
    "\n",
    "fakenews_df.head(1)"
   ]
  },
  {
   "cell_type": "code",
   "execution_count": 150,
   "id": "604d2dd5",
   "metadata": {},
   "outputs": [],
   "source": [
    "# Perform TF-IDF Vectorizer\n",
    "vectorizer = TfidfVectorizer()\n",
    "features = vectorizer.fit_transform(fakenews_df['title_text'])"
   ]
  },
  {
   "cell_type": "markdown",
   "id": "01860d1d",
   "metadata": {},
   "source": [
    "#### Applying ML Models"
   ]
  },
  {
   "cell_type": "code",
   "execution_count": 153,
   "id": "5f687ee8",
   "metadata": {},
   "outputs": [
    {
     "name": "stdout",
     "output_type": "stream",
     "text": [
      "              precision    recall  f1-score   support\n",
      "\n",
      "           0       0.94      0.94      0.94      7081\n",
      "           1       0.94      0.94      0.94      7227\n",
      "\n",
      "    accuracy                           0.94     14308\n",
      "   macro avg       0.94      0.94      0.94     14308\n",
      "weighted avg       0.94      0.94      0.94     14308\n",
      "\n"
     ]
    }
   ],
   "source": [
    "# Random forest model\n",
    "\n",
    "# split the data into Train and Test\n",
    "X_train, X_test, y_train, y_test = train_test_split(features, fakenews_df['label'], test_size=0.2, random_state=42)\n",
    "\n",
    "# random forest regressor\n",
    "randomforest_regressor = RandomForestClassifier(random_state=42)\n",
    "randomforest_regressor.fit(X_train, y_train)\n",
    "\n",
    "# predict on the test set and get classification report on precision, recall, F1-score\n",
    "y_pred = randomforest_regressor.predict(X_test)\n",
    "print(classification_report(y_test, y_pred))"
   ]
  },
  {
   "cell_type": "markdown",
   "id": "102451a3",
   "metadata": {},
   "source": [
    "***Precision: A precision of 0.94 for class 0 means that 94% of the instances that the model predicted as class 0 were actually class 0.\n",
    "\n",
    "Recall: A recall of 0.94 for class 0 means that the model correctly identified 94% of all actual instances of class 0.\n",
    "\n",
    "F1-score:  An F1-score of 0.94 for class 0 indicates that the balance between precision and recall for class 0 predictions is quite good.\n",
    "\n",
    "Support: The number of actual occurrences of the class in the specified dataset. For instance, there are 7081 instances of class 0 and 7227 instances of class 1.\n",
    "\n",
    "Accuracy: The ratio of correct predictions to total predictions. An accuracy of 0.94 means the model made correct predictions 94% of the time.***"
   ]
  },
  {
   "cell_type": "code",
   "execution_count": null,
   "id": "8bc63c83",
   "metadata": {},
   "outputs": [],
   "source": []
  },
  {
   "cell_type": "code",
   "execution_count": null,
   "id": "ee36f375",
   "metadata": {},
   "outputs": [],
   "source": []
  }
 ],
 "metadata": {
  "kernelspec": {
   "display_name": "Python 3",
   "language": "python",
   "name": "python3"
  },
  "language_info": {
   "codemirror_mode": {
    "name": "ipython",
    "version": 3
   },
   "file_extension": ".py",
   "mimetype": "text/x-python",
   "name": "python",
   "nbconvert_exporter": "python",
   "pygments_lexer": "ipython3",
   "version": "3.11.7"
  }
 },
 "nbformat": 4,
 "nbformat_minor": 5
}
